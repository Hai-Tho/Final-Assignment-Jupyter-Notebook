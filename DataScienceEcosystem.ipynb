{
 "cells": [
  {
   "cell_type": "markdown",
   "id": "290265db-6e33-41e5-b643-3502402c4038",
   "metadata": {},
   "source": [
    "# Data Science Tools and Ecosystem"
   ]
  },
  {
   "cell_type": "markdown",
   "id": "4aba44f0-8493-441a-9658-ead999f38c47",
   "metadata": {},
   "source": [
    "In this notebook, Data Science Tools and Ecosystem are summarized."
   ]
  },
  {
   "cell_type": "markdown",
   "id": "4aab9142-25a8-4990-a641-8194eab9c9b4",
   "metadata": {},
   "source": [
    "**Objectives:**\n",
    "* List popular languages for Data Science\n",
    "* List commonly used libraries used by Data Scientists\n",
    "* List arithmetic expression examples"
   ]
  },
  {
   "cell_type": "markdown",
   "id": "9eed3e74-2495-49e4-a1b1-db59c3d6e06d",
   "metadata": {},
   "source": [
    "Some of the popular languages that Data Scientists use are:\n",
    "1. python\n",
    "2. R\n",
    "3. SQL"
   ]
  },
  {
   "cell_type": "markdown",
   "id": "1c9a9de1-b4a8-45b0-a37e-55807b4d7858",
   "metadata": {
    "tags": []
   },
   "source": [
    "Some of the commonly used libraries used by Data Scientists include:\n",
    "1. NumPy\n",
    "2. pandas\n",
    "3. scikit-learn"
   ]
  },
  {
   "cell_type": "markdown",
   "id": "d24c286f-b164-4a41-b549-59794056c8e7",
   "metadata": {},
   "source": [
    "|Data Science Tools|\n",
    "------------------\n",
    "|Jupyter Notebooks|\n",
    "|RStudio|\n",
    "|Spyder|"
   ]
  },
  {
   "cell_type": "markdown",
   "id": "61ddffa6-9e50-431a-9d1f-9640b8cce7d3",
   "metadata": {},
   "source": [
    "### Below are a few examples of evaluating arithmetic expressions in Python\n",
    "1. Simple Addition: a+b\n",
    "2. Complex Expression with Parentheses: a*(b-c)/d\n",
    "3. Combination of Operations: a/b+5*c"
   ]
  },
  {
   "cell_type": "markdown",
   "id": "10e092bf-f3ff-4e11-94e0-16bb2fe6eaca",
   "metadata": {},
   "source": [
    "This a simple arithmetic expression to mutiply then add integers"
   ]
  },
  {
   "cell_type": "code",
   "execution_count": 12,
   "id": "6000c0f4-1b77-4fda-a8cb-8e682403be94",
   "metadata": {
    "tags": []
   },
   "outputs": [
    {
     "data": {
      "text/plain": [
       "17"
      ]
     },
     "execution_count": 12,
     "metadata": {},
     "output_type": "execute_result"
    }
   ],
   "source": [
    "(3*4)+5"
   ]
  },
  {
   "cell_type": "markdown",
   "id": "37f852a2-f2ef-4f16-bcef-db5cf6f51630",
   "metadata": {},
   "source": [
    "This will convert 200 minutes to hours by diving by 60"
   ]
  },
  {
   "cell_type": "code",
   "execution_count": 13,
   "id": "af4cbbcd-8091-440a-86d7-6d9666b74030",
   "metadata": {
    "tags": []
   },
   "outputs": [
    {
     "name": "stdout",
     "output_type": "stream",
     "text": [
      "3.3333333333333335\n"
     ]
    }
   ],
   "source": [
    "minutes = 200\n",
    "hours = minutes / 60\n",
    "print(hours)"
   ]
  },
  {
   "cell_type": "markdown",
   "id": "17f12f70-ea62-4226-b0d9-a83e79132d74",
   "metadata": {},
   "source": [
    "## Pham\n",
    "Hai Thanh"
   ]
  },
  {
   "cell_type": "code",
   "execution_count": null,
   "id": "f4e7eab1-a222-45d7-843c-49d331dd4c91",
   "metadata": {},
   "outputs": [],
   "source": []
  }
 ],
 "metadata": {
  "kernelspec": {
   "display_name": "Python",
   "language": "python",
   "name": "conda-env-python-py"
  },
  "language_info": {
   "codemirror_mode": {
    "name": "ipython",
    "version": 3
   },
   "file_extension": ".py",
   "mimetype": "text/x-python",
   "name": "python",
   "nbconvert_exporter": "python",
   "pygments_lexer": "ipython3",
   "version": "3.7.12"
  }
 },
 "nbformat": 4,
 "nbformat_minor": 5
}
